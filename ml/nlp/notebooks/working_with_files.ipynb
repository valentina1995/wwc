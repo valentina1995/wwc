{
  "nbformat": 4,
  "nbformat_minor": 5,
  "metadata": {
    "kernelspec": {
      "display_name": "Python 3",
      "language": "python",
      "name": "python3"
    },
    "language_info": {
      "codemirror_mode": {
        "name": "ipython",
        "version": 3
      },
      "file_extension": ".py",
      "mimetype": "text/x-python",
      "name": "python",
      "nbconvert_exporter": "python",
      "pygments_lexer": "ipython3",
      "version": "3.7.10"
    },
    "colab": {
      "name": "working_with_files.ipynb",
      "provenance": [],
      "include_colab_link": true
    }
  },
  "cells": [
    {
      "cell_type": "markdown",
      "metadata": {
        "id": "view-in-github",
        "colab_type": "text"
      },
      "source": [
        "<a href=\"https://colab.research.google.com/github/valentina1995/wwc/blob/master/ml/nlp/notebooks/working_with_files.ipynb\" target=\"_parent\"><img src=\"https://colab.research.google.com/assets/colab-badge.svg\" alt=\"Open In Colab\"/></a>"
      ]
    },
    {
      "cell_type": "code",
      "metadata": {
        "id": "handy-distance"
      },
      "source": [
        "# Working With Files \n",
        "# A reference: https://www.guru99.com/reading-and-writing-files-in-python.html"
      ],
      "id": "handy-distance",
      "execution_count": 1,
      "outputs": []
    },
    {
      "cell_type": "code",
      "metadata": {
        "id": "spoken-giving"
      },
      "source": [
        "def read_file(filepath):\n",
        "    with open(filepath, 'r') as f:\n",
        "        data = f.read()\n",
        "    return data"
      ],
      "id": "spoken-giving",
      "execution_count": 2,
      "outputs": []
    },
    {
      "cell_type": "code",
      "metadata": {
        "id": "returning-boundary"
      },
      "source": [
        "with open('some_name.txt', 'w') as f:\n",
        "    f.write(\"Whomen Who Code\")"
      ],
      "id": "returning-boundary",
      "execution_count": 3,
      "outputs": []
    },
    {
      "cell_type": "code",
      "metadata": {
        "id": "afraid-preliminary",
        "outputId": "9042c36e-c67b-4bdb-ebc3-623f17e5e864",
        "colab": {
          "base_uri": "https://localhost:8080/"
        }
      },
      "source": [
        "import os\n",
        "\n",
        "file_path = os.getcwd()\n",
        "print(file_path)"
      ],
      "id": "afraid-preliminary",
      "execution_count": 4,
      "outputs": [
        {
          "output_type": "stream",
          "text": [
            "/content\n"
          ],
          "name": "stdout"
        }
      ]
    },
    {
      "cell_type": "markdown",
      "metadata": {
        "id": "q5vtylDSoEI_"
      },
      "source": [
        "# Nueva sección"
      ],
      "id": "q5vtylDSoEI_"
    },
    {
      "cell_type": "code",
      "metadata": {
        "id": "green-japanese"
      },
      "source": [
        "import re\n",
        "data2 = read_file('/content/song.txt')"
      ],
      "id": "green-japanese",
      "execution_count": 38,
      "outputs": []
    },
    {
      "cell_type": "code",
      "metadata": {
        "id": "behavioral-subscription"
      },
      "source": [
        "# Ejercicios\n",
        "# 1. Contar cuantas veces se repite la palabra blanco en la cancion\n",
        "def count_white(data):\n",
        "  res = data.split()\n",
        "  count = 0\n",
        "  for word in res:\n",
        "    if word == 'blanco':\n",
        "      count += 1\n",
        "  return count\n",
        "# 2. Contar cuantos saltos de línea tiene la letra de la canción\n",
        "\n",
        "def count_space(data):\n",
        "\n",
        "  count = data.splitlines()\n",
        "  count = len(count)-1\n",
        "\n",
        "  return count\n",
        "# 3. Formatee el texto para que solo contenga palabras en minúsculas, \n",
        "#    luego, reemplace la palabra blanco por BLANCO\n",
        "def upper_text(data):\n",
        "    up_data = data.upper()\n",
        "    up_data = up_data.replace('BLANCO','blanco')\n",
        "    return up_data\n",
        "\n",
        "# 4. Completar la siguiente funcion, identifique todas las palabras de la canción y retornelas en una lista sin duplicas:\n",
        "\n",
        "def extract_words(data):\n",
        "    res = re.findall(r'\\w+', data)\n",
        "    count = dict()\n",
        "    for word in res:\n",
        "        if word in count:\n",
        "            count[word] += 1\n",
        "        else:\n",
        "            count[word] = 1\n",
        "\n",
        "\n",
        "    # Your code\n",
        "    return count\n",
        "\n",
        "# 5. Escriba en un archivo de texto todas las palabras encontradas en la cancion junto con las veces que se repiten\n",
        "# Ejemplo:\n",
        "# words.txt\n",
        "#    corazon: 10\n",
        "#    blanco: 20\n",
        "#    y: 20\n",
        "#    ...\n",
        "\n"
      ],
      "id": "behavioral-subscription",
      "execution_count": 66,
      "outputs": []
    },
    {
      "cell_type": "code",
      "metadata": {
        "id": "ijC0UnRv5zxF",
        "outputId": "f4f0757c-df27-41b6-b0c3-3d85b6192d72",
        "colab": {
          "base_uri": "https://localhost:8080/"
        }
      },
      "source": [
        "coutn = count_white(data2)\n",
        "print(coutn)\n",
        "spaces = count_space(data2)\n",
        "print(spaces)\n",
        "up = upper_text(data2)\n",
        "print(up)"
      ],
      "id": "ijC0UnRv5zxF",
      "execution_count": 67,
      "outputs": [
        {
          "output_type": "stream",
          "text": [
            "12\n",
            "47\n",
            "CORAZON EN blanco\n",
            "INTENTARE OLVIDAR CADA DÍA QUE PASE\n",
            "INTENTARE BORRAR LO QUE QUEDE DE TI\n",
            "CUANTO AMOR PUSE EN TUS MANOS\n",
            "TANTOS AÑOS DE ENTREGARTE TANTO Y TANTO AMOR\n",
            "EL MÁS GRANDE AMOR\n",
            "INTENTARE ESCAPAR Y ALEJARME DE TODO\n",
            "INTENTARE LOGRAR ARRANCARTE DE MÍ\n",
            "HA SIDO DURO ACEPTARLO\n",
            "EL ENGAÑO HA CAUSADO TAN GRANDE DOLOR\n",
            "TANTA DECEPCIÓN\n",
            "TÚ ME HAZ DEJADO EL CORAZÓN EN blanco\n",
            "ME HAZ INUNDADO LA RAZÓN DE LLANTO\n",
            "Y NO HAY CANCIÓN QUE ME CONMUEVA LOS SENTIDOS\n",
            "AUN EL SILENCIO ME LASTIMA ES UN CASTIGO\n",
            "TÚ ME HAZ DEJADO EL CORAZÓN EN blanco (EN blanco)\n",
            "Y EN EL VACIÓ DE MI VOZ TE LLAMO (TE EXTRAÑO)\n",
            "Y NO ME INSPIRA EL INSTANTE MAS SUBLIME\n",
            "Y HAZ DIVIDIDO MI ALEGRÍA EN CICATRICES\n",
            "INTENTARE VOLVER A CREER EN LA VIDA\n",
            "INTENTARE SOÑAR QUE POR FIN SOY FELIZ\n",
            "Y AUNQUE EL DOLOR AHORA ME BESA\n",
            "SE QUE ENCONTRARE LAS FUERZAS\n",
            "VOLVERÉ A REÍR, VOLVERÉ A VIVIR\n",
            "TÚ ME HAZ DEJADO EL CORAZÓN EN blanco (EN blanco)\n",
            "ME HAZ INUNDADO LA RAZÓN DE LLANTO (AMARGO)\n",
            "Y NO HAY CANCIÓN QUE ME CONMUEVA LOS SENTIDOS\n",
            "AUN EL SILENCIO ME LASTIMA ES UN CASTIGO\n",
            "TÚ ME HAZ DEJADO EL CORAZÓN EN blanco (EN blanco)\n",
            "Y EN EL VACIÓ DE MI VOZ TE LLAMO (TE EXTRAÑO)\n",
            "Y NO ME INSPIRA EL INSTANTE MAS SUBLIME\n",
            "Y HAZ DIVIDIDO MI ALEGRÍA EN CICATRICES\n",
            "ME HAZ DEJADO EL CORAZÓN EN blanco, EN blanco\n",
            "INTENTARE ESCAPAR Y ALEJARME DE TODO\n",
            "Y ARRANCARTE CON MI LLANTO\n",
            "TU ME HAZ DEJADO EL CORAZÓN EN blanco, EN blanco\n",
            "OLVIDAR CADA DÍA QUE PASE CONTIGO Y NO RECORDARLO\n",
            "TU ME HAZ DEJADO EL CORAZÓN EN blanco, EN blanco\n",
            "POR ESO AHORA POR TU CULPA MI CORAZÓN ESTA EN blanco\n",
            "TU ME HAZ DEJADO EL CORAZÓN EN blanco, EN blanco\n",
            "YA NO SE QUE HACER TUVE TU QUERER\n",
            "PERO YA ME HAZ DECEPCIONADO\n",
            "TU ME HAZ DEJADO EL CORAZÓN EN blanco, EN blanco\n",
            "ASÍ QUEDA EL CORAZÓN CUANDO LLEGA LA PASIÓN\n",
            "Y LUEGO HA MARCHADO\n",
            "TU ME HAZ DEJADO EL CORAZÓN EN blanco, EN blanco\n",
            "HAZ BORRADO DE MI TANTAS COSAS DE ESTE CARIÑO\n",
            "QUE NADA HA QUEDADO MI CORAZÓN ESTA EN blanco\n"
          ],
          "name": "stdout"
        }
      ]
    },
    {
      "cell_type": "code",
      "metadata": {
        "id": "divine-imperial"
      },
      "source": [
        "text = extract_words(data2)\n",
        "with open('words.txt', 'w') as f:\n",
        "    f.write(str(text))"
      ],
      "id": "divine-imperial",
      "execution_count": 69,
      "outputs": []
    },
    {
      "cell_type": "code",
      "metadata": {
        "id": "lfa4xs1HEy4w",
        "outputId": "d6a5d4b1-9928-42f6-af2f-24db1a143fd5",
        "colab": {
          "base_uri": "https://localhost:8080/",
          "height": 197
        }
      },
      "source": [
        "data3 = read_file('/content/words.txt')\n",
        "data3"
      ],
      "id": "lfa4xs1HEy4w",
      "execution_count": 72,
      "outputs": [
        {
          "output_type": "execute_result",
          "data": {
            "application/vnd.google.colaboratory.intrinsic+json": {
              "type": "string"
            },
            "text/plain": [
              "\"{'Corazon': 1, 'en': 28, 'Blanco': 1, 'Intentare': 7, 'olvidar': 1, 'cada': 2, 'día': 2, 'que': 8, 'pase': 2, 'borrar': 1, 'lo': 1, 'quede': 1, 'de': 11, 'ti': 1, 'Cuanto': 1, 'amor': 3, 'puse': 1, 'tus': 1, 'manos': 1, 'Tantos': 1, 'años': 1, 'entregarte': 1, 'tanto': 2, 'y': 4, 'El': 2, 'más': 1, 'grande': 2, 'escapar': 2, 'alejarme': 2, 'todo': 2, 'lograr': 1, 'arrancarte': 2, 'mí': 1, 'Ha': 1, 'sido': 1, 'duro': 1, 'aceptarlo': 1, 'engaño': 1, 'ha': 3, 'causado': 1, 'tan': 1, 'dolor': 2, 'Tanta': 1, 'decepción': 1, 'Tú': 4, 'me': 17, 'haz': 14, 'dejado': 10, 'el': 18, 'corazón': 13, 'blanco': 21, 'Me': 3, 'inundado': 2, 'la': 4, 'razón': 2, 'llanto': 3, 'Y': 11, 'no': 6, 'hay': 2, 'canción': 2, 'conmueva': 2, 'los': 2, 'sentidos': 2, 'Aun': 2, 'silencio': 2, 'lastima': 2, 'es': 2, 'un': 2, 'castigo': 2, 'vació': 2, 'mi': 8, 'voz': 2, 'te': 4, 'llamo': 2, 'extraño': 2, 'inspira': 2, 'instante': 2, 'mas': 2, 'sublime': 2, 'Haz': 2, 'dividido': 2, 'alegría': 2, 'cicatrices': 2, 'volver': 1, 'a': 3, 'creer': 1, 'vida': 1, 'soñar': 1, 'por': 2, 'fin': 1, 'soy': 1, 'feliz': 1, 'aunque': 1, 'ahora': 2, 'besa': 1, 'Se': 1, 'encontrare': 1, 'las': 1, 'fuerzas': 1, 'Volveré': 1, 'reír': 1, 'volveré': 1, 'vivir': 1, 'amargo': 1, 'con': 1, 'Tu': 5, 'Olvidar': 1, 'contigo': 1, 'recordarlo': 1, 'Por': 1, 'eso': 1, 'tu': 2, 'culpa': 1, 'esta': 2, 'Ya': 1, 'se': 1, 'hacer': 1, 'tuve': 1, 'querer': 1, 'Pero': 1, 'ya': 1, 'decepcionado': 1, 'Así': 1, 'queda': 1, 'cuando': 1, 'llega': 1, 'pasión': 1, 'luego': 1, 'marchado': 1, 'borrado': 1, 'tantas': 1, 'cosas': 1, 'este': 1, 'cariño': 1, 'Que': 1, 'nada': 1, 'quedado': 1}\""
            ]
          },
          "metadata": {
            "tags": []
          },
          "execution_count": 72
        }
      ]
    }
  ]
}