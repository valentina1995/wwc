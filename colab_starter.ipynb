{
  "nbformat": 4,
  "nbformat_minor": 0,
  "metadata": {
    "colab": {
      "name": "colab_starter.ipynb",
      "provenance": [],
      "include_colab_link": true
    },
    "kernelspec": {
      "name": "python3",
      "display_name": "Python 3"
    }
  },
  "cells": [
    {
      "cell_type": "markdown",
      "metadata": {
        "id": "view-in-github",
        "colab_type": "text"
      },
      "source": [
        "<a href=\"https://colab.research.google.com/github/valentina1995/wwc/blob/master/colab_starter.ipynb\" target=\"_parent\"><img src=\"https://colab.research.google.com/assets/colab-badge.svg\" alt=\"Open In Colab\"/></a>"
      ]
    },
    {
      "cell_type": "code",
      "metadata": {
        "id": "DXPMB4syxTCF",
        "colab": {
          "base_uri": "https://localhost:8080/",
          "height": 228
        },
        "outputId": "c2ef6e4d-16f6-410b-e4d9-e480a89469f5"
      },
      "source": [
        "!pip install colabcode"
      ],
      "execution_count": null,
      "outputs": [
        {
          "output_type": "stream",
          "text": [
            "Collecting colabcode\n",
            "  Downloading https://files.pythonhosted.org/packages/50/80/c7ba2ab115f40007e12ef505e82234d3bf330523d58f21db9e4ba81268a9/colabcode-0.0.6-py3-none-any.whl\n",
            "Collecting pyngrok>=4.1.11\n",
            "  Downloading https://files.pythonhosted.org/packages/91/46/8cf45192af2005f552724ac217337baa42ee1383a6b38f03ce2a597c56e3/pyngrok-4.1.11.tar.gz\n",
            "Requirement already satisfied: future in /usr/local/lib/python3.6/dist-packages (from pyngrok>=4.1.11->colabcode) (0.16.0)\n",
            "Requirement already satisfied: PyYAML in /usr/local/lib/python3.6/dist-packages (from pyngrok>=4.1.11->colabcode) (3.13)\n",
            "Building wheels for collected packages: pyngrok\n",
            "  Building wheel for pyngrok (setup.py) ... \u001b[?25l\u001b[?25hdone\n",
            "  Created wheel for pyngrok: filename=pyngrok-4.1.11-cp36-none-any.whl size=16680 sha256=6df382a7c840bfe902cad96874b6791fec18f50304aa2e9d97519ad1cba972c1\n",
            "  Stored in directory: /root/.cache/pip/wheels/b9/d8/ae/5a29960e0fddbd2bf852bfa93d841dd8b1aa23851e81687f85\n",
            "Successfully built pyngrok\n",
            "Installing collected packages: pyngrok, colabcode\n",
            "Successfully installed colabcode-0.0.6 pyngrok-4.1.11\n"
          ],
          "name": "stdout"
        }
      ]
    },
    {
      "cell_type": "code",
      "metadata": {
        "id": "jPNTUYTDxbkC"
      },
      "source": [
        "from colabcode import ColabCode"
      ],
      "execution_count": null,
      "outputs": []
    },
    {
      "cell_type": "code",
      "metadata": {
        "id": "M6bGiCAGxilQ",
        "colab": {
          "base_uri": "https://localhost:8080/",
          "height": 147
        },
        "outputId": "5c6803f3-b9b3-4de3-954d-9e53b5b83f42"
      },
      "source": [
        "ColabCode(port=10000, password=\"abhishek\")"
      ],
      "execution_count": null,
      "outputs": [
        {
          "output_type": "stream",
          "text": [
            "Code Server can be accessed on: http://a18599df3aca.ngrok.io\n",
            "[2020-09-09T17:56:03.140Z] info  Using config file ~/.config/code-server/config.yaml\n",
            "[2020-09-09T17:56:03.497Z] info  Using user-data-dir ~/.local/share/code-server\n",
            "[2020-09-09T17:56:03.506Z] info  code-server 3.5.0 de41646fc402b968ca6d555fdf2da7de9554d28a\n",
            "[2020-09-09T17:56:03.512Z] info  HTTP server listening on http://127.0.0.1:10000\n",
            "[2020-09-09T17:56:03.512Z] info      - Using password from $PASSWORD\n",
            "[2020-09-09T17:56:03.512Z] info      - To disable use `--auth none`\n",
            "[2020-09-09T17:56:03.512Z] info    - Not serving HTTPS\n"
          ],
          "name": "stdout"
        }
      ]
    },
    {
      "cell_type": "code",
      "metadata": {
        "id": "txznnS0b-kqQ"
      },
      "source": [
        ""
      ],
      "execution_count": null,
      "outputs": []
    }
  ]
}